{
 "cells": [
  {
   "cell_type": "code",
   "execution_count": 1,
   "metadata": {},
   "outputs": [],
   "source": [
    "import os\n",
    "import numpy as np\n",
    "import pandas as pd\n",
    "import matplotlib.pyplot as plt\n",
    "\n"
   ]
  },
  {
   "cell_type": "code",
   "execution_count": 14,
   "metadata": {},
   "outputs": [],
   "source": [
    "def Graph(data,columns=None,directory=os.getcwd()):     #defining a function arguments(data,columns,directory(import os before))\n",
    "    if columns!=None:                                   #ckecking argument for columns argument if None is it will \n",
    "        data=data[columns]                              #run for all the variables  present in data set or if list\n",
    "                                                        #of variables name is given then it will show graphs of those\n",
    "                                                        #variables from the data set\n",
    "       \n",
    "    for i in  range(len(data.columns)):                 #running for loop n times (n=lenght of columns argument)\n",
    "         #checks the data type of variable if int or float \n",
    "         #then considered as numerical data in those columns we will plot histogram and boxplot for those numerical columns\n",
    "        if data.dtypes[\"%s\"%data.columns[i]] == np.float64 or data.dtypes[\"%s\"%data.columns[i]]== np.int64:\n",
    "            fig, axs = plt.subplots(nrows=2,ncols=1)                   #plotting two different plots at same time\n",
    "            axs[0].hist(data[data.columns[i]])                         #plotting histogram\n",
    "            axs[0].set_xlabel(\"%s\"%data.columns[i])                    #labelling plots\n",
    "            axs[0].set_ylabel(\"Frequency\")\n",
    "            axs[0].set_title('histogram and boxplot of %s'%data.columns[i])\n",
    "            \n",
    "            axs[1].boxplot(data[data.columns[i]],vert=False)           #plotting boxplot \n",
    "            axs[1].set_xlabel(\"%s\"%data.columns[i])                    #labelling plots\n",
    "            plt.savefig(directory + \"\\\\\" + \"%s.png\"%data.columns[i])   #saving plot in the  mentioned directory \n",
    "            plt.show()\n",
    "        \n",
    "        #checks the data type of variable if string \n",
    "         #then considered as categorical data in those columns we will plot bar plot for value count of categorical data \n",
    "        \n",
    "        elif data.dtypes[\"%s\"%data.columns[i]] ==np.object:\n",
    "            data[\"%s\"%data.columns[i]].value_counts().plot(kind='bar')\n",
    "            plt.title(\"Bar chart for value count of %s\"%data.columns[i])  #labellint plot\n",
    "            plt.xlabel(\"%s\"%data.columns[i])\n",
    "            plt.xticks(rotation=360)                             #by default label was vertical by rotating it become horizontal\n",
    "            plt.ylabel(\"frequency\")\n",
    "            plt.savefig(directory + \"\\\\\" + \"%s.png\"%data.columns[i]) #saving plot in the  mentioned directory\n",
    "            plt.show()\n",
    "            \n",
    "        \n",
    "   "
   ]
  },
  {
   "cell_type": "markdown",
   "metadata": {},
   "source": [
    "defining the function Graphs which comprises of three parameters data,columns,directory \n",
    "\n",
    "data-readed file \n",
    "\n",
    "columns-default (None) it will display graphs for all variables\n",
    "\n",
    "directory-default current working directory (import os before)\n",
    "\n",
    "  \n",
    "if columns argument is list of columns from the data set\n",
    "it will sort the variables based on data type \n",
    "if data type is int or float it will consider as numerical data and will plot Histogram and Boxplot for those variables\n",
    "and if data type is string(str) it will onsider as categorical data and will plot Bar plot for those variables\n",
    "\n",
    "\n",
    "\n",
    "directory- if no directory is mention by default plots will we saved in the current working directory or else if directory is pass it will save the following plots in that directory\n",
    " \n",
    "using subplot method to merge two plot(histogram and boxplot) in a single figure"
   ]
  },
  {
   "cell_type": "code",
   "execution_count": null,
   "metadata": {},
   "outputs": [],
   "source": []
  }
 ],
 "metadata": {
  "kernelspec": {
   "display_name": "Python 3",
   "language": "python",
   "name": "python3"
  },
  "language_info": {
   "codemirror_mode": {
    "name": "ipython",
    "version": 3
   },
   "file_extension": ".py",
   "mimetype": "text/x-python",
   "name": "python",
   "nbconvert_exporter": "python",
   "pygments_lexer": "ipython3",
   "version": "3.8.5"
  }
 },
 "nbformat": 4,
 "nbformat_minor": 2
}
